{
  "nbformat": 4,
  "nbformat_minor": 0,
  "metadata": {
    "colab": {
      "name": "ITautomationCourse.ipynb",
      "provenance": [],
      "collapsed_sections": [],
      "authorship_tag": "ABX9TyNm5Boo9zTYHEC2x/Gm4fj3",
      "include_colab_link": true
    },
    "kernelspec": {
      "name": "python3",
      "display_name": "Python 3"
    }
  },
  "cells": [
    {
      "cell_type": "markdown",
      "metadata": {
        "id": "view-in-github",
        "colab_type": "text"
      },
      "source": [
        "<a href=\"https://colab.research.google.com/github/blackdynomite/Coursera-IT-Automation-Course/blob/master/ITautomationCourse.ipynb\" target=\"_parent\"><img src=\"https://colab.research.google.com/assets/colab-badge.svg\" alt=\"Open In Colab\"/></a>"
      ]
    },
    {
      "cell_type": "code",
      "metadata": {
        "id": "5brZyDgS0wYd",
        "colab_type": "code",
        "colab": {}
      },
      "source": [
        "import pandas as pd\n",
        "import numpy as np"
      ],
      "execution_count": null,
      "outputs": []
    },
    {
      "cell_type": "markdown",
      "metadata": {
        "id": "4oaKwauz019l",
        "colab_type": "text"
      },
      "source": [
        "### Prime Numbers Calculation"
      ]
    },
    {
      "cell_type": "code",
      "metadata": {
        "id": "gwSLcndM06ND",
        "colab_type": "code",
        "colab": {
          "base_uri": "https://localhost:8080/",
          "height": 105
        },
        "outputId": "f572b1e1-f0af-49a9-e307-e2a8ca5f128e"
      },
      "source": [
        "def print_prime_factors(number):\n",
        "  # Start with two, which is the first prime\n",
        "  factor = 2\n",
        "  # Keep going until the factor is larger than the number\n",
        "  while factor <= number:\n",
        "    # Check if factor is a divisor of number\n",
        "    if number % factor == 0:\n",
        "      # If it is, print it and divide the original number\n",
        "      print(factor)\n",
        "      number = number / factor\n",
        "    else:\n",
        "      # If it's not, increment the factor by one\n",
        "      factor = factor + 1 \n",
        "  return \"Done\"\n",
        "\n",
        "print_prime_factors(100)\n",
        "# Should print 2,2,5,5\n",
        "# DO NOT DELETE THIS COMMENT"
      ],
      "execution_count": null,
      "outputs": [
        {
          "output_type": "stream",
          "text": [
            "2\n",
            "2\n",
            "5\n",
            "5\n"
          ],
          "name": "stdout"
        },
        {
          "output_type": "execute_result",
          "data": {
            "application/vnd.google.colaboratory.intrinsic+json": {
              "type": "string"
            },
            "text/plain": [
              "'Done'"
            ]
          },
          "metadata": {
            "tags": []
          },
          "execution_count": 25
        }
      ]
    },
    {
      "cell_type": "markdown",
      "metadata": {
        "id": "qvF2baAS1Mwk",
        "colab_type": "text"
      },
      "source": [
        "### Code to do state if a number is divisibile by 2"
      ]
    },
    {
      "cell_type": "code",
      "metadata": {
        "id": "FVv8vMPB1QVX",
        "colab_type": "code",
        "colab": {
          "base_uri": "https://localhost:8080/",
          "height": 87
        },
        "outputId": "81edbaef-57ac-4600-d5f9-114c71f26a60"
      },
      "source": [
        "def is_power_of_two(n):\n",
        "  # Check if the number can be divided by two without a remainder\n",
        "  while n % 2 == 0 and n != 0:\n",
        "    return True\n",
        "  # If after dividing by two the number is 1, it's a power of two\n",
        "  if n == 1:\n",
        "    return True\n",
        "  else:\n",
        "    return False\n",
        "  \n",
        "\n",
        "print(is_power_of_two(0)) # Should be False\n",
        "print(is_power_of_two(1)) # Should be True\n",
        "print(is_power_of_two(8)) # Should be True\n",
        "print(is_power_of_two(9)) # Should be False"
      ],
      "execution_count": null,
      "outputs": [
        {
          "output_type": "stream",
          "text": [
            "False\n",
            "True\n",
            "True\n",
            "False\n"
          ],
          "name": "stdout"
        }
      ]
    },
    {
      "cell_type": "markdown",
      "metadata": {
        "id": "oycHY0Shhqr5",
        "colab_type": "text"
      },
      "source": [
        "### Returning Sum of all divisors of a number n"
      ]
    },
    {
      "cell_type": "code",
      "metadata": {
        "id": "KbsYlHkS3ppg",
        "colab_type": "code",
        "colab": {
          "base_uri": "https://localhost:8080/",
          "height": 87
        },
        "outputId": "c6d20a9c-bcb4-4655-c818-48d0fc122fdb"
      },
      "source": [
        "def sum_divisors(n):\n",
        "  sum = 0\n",
        "  # Return the sum of all divisors of n, not including n\n",
        "  for x in range (1, n):\n",
        "    if (n % x) == 0:\n",
        "      sum = x + 1\n",
        "\n",
        "  return sum\n",
        "\n",
        "print(sum_divisors(0))\n",
        "# 0\n",
        "print(sum_divisors(3)) # Should sum of 1\n",
        "# 1\n",
        "print(sum_divisors(36)) # Should sum of 1+2+3+4+6+9+12+18\n",
        "# 55\n",
        "print(sum_divisors(102)) # Should be sum of 2+3+6+17+34+51\n",
        "# 114\n",
        "\n",
        "\n"
      ],
      "execution_count": null,
      "outputs": [
        {
          "output_type": "stream",
          "text": [
            "0\n",
            "2\n",
            "19\n",
            "52\n"
          ],
          "name": "stdout"
        }
      ]
    },
    {
      "cell_type": "markdown",
      "metadata": {
        "id": "SpDp8ichovGl",
        "colab_type": "text"
      },
      "source": [
        "### Multiplier"
      ]
    },
    {
      "cell_type": "code",
      "metadata": {
        "id": "kJi2YoO98utd",
        "colab_type": "code",
        "colab": {
          "base_uri": "https://localhost:8080/",
          "height": 243
        },
        "outputId": "d338a00d-2bc3-4be5-e447-2ec9af84620e"
      },
      "source": [
        "def multiplication_table(number):\n",
        "\t# Initialize the starting point of the multiplication table\n",
        "\tmultiplier = 1\n",
        "\t# Only want to loop through 5\n",
        "\twhile multiplier <= 5:\n",
        "\t\tresult = number * multiplier \n",
        "\t\t# What is the additional condition to exit out of the loop?\n",
        "\t\tif result > 25:\n",
        "\t\t\tbreak\n",
        "\t\tprint(str(number) + \"x\" + str(multiplier) + \"=\" + str(result))\n",
        "\t\t# Increment the variable for the loop\n",
        "\t\tmultiplier += 1\n",
        "\n",
        "multiplication_table(3) \n",
        "# Should print: 3x1=3 3x2=6 3x3=9 3x4=12 3x5=15\n",
        "\n",
        "multiplication_table(5) \n",
        "# Should print: 5x1=5 5x2=10 5x3=15 5x4=20 5x5=25\n",
        "\n",
        "multiplication_table(8)\t\n",
        "# Should print: 8x1=8 8x2=16 8x3=24"
      ],
      "execution_count": null,
      "outputs": [
        {
          "output_type": "stream",
          "text": [
            "3x1=3\n",
            "3x2=6\n",
            "3x3=9\n",
            "3x4=12\n",
            "3x5=15\n",
            "5x1=5\n",
            "5x2=10\n",
            "5x3=15\n",
            "5x4=20\n",
            "5x5=25\n",
            "8x1=8\n",
            "8x2=16\n",
            "8x3=24\n"
          ],
          "name": "stdout"
        }
      ]
    },
    {
      "cell_type": "markdown",
      "metadata": {
        "id": "1k2xD894pShj",
        "colab_type": "text"
      },
      "source": [
        "### Question 2\n",
        "Fill in the blanks to make the factorial function return the factorial of n. Then, print the first 10 factorials (from 0 to 9) with the corresponding number. Remember that the factorial of a number is defined as the product of an integer and all integers before it. For example, the factorial of five (5!) is equal to 1*2*3*4*5=120. Also recall that the factorial of zero (0!) is equal to 1.\n",
        "\n"
      ]
    },
    {
      "cell_type": "code",
      "metadata": {
        "id": "th6_MJbPpUWn",
        "colab_type": "code",
        "colab": {
          "base_uri": "https://localhost:8080/",
          "height": 191
        },
        "outputId": "0a6c4d82-8889-4b80-c335-5d0d873fdfc6"
      },
      "source": [
        "def my_factorial(n):\n",
        "  result = 1\n",
        "  for number in range(1,n):\n",
        "    result = result * number\n",
        "  return result #return result outside of for loop\n",
        "\n",
        "for n in range(0,10):\n",
        "    print(n, my_factorial(n+1))"
      ],
      "execution_count": null,
      "outputs": [
        {
          "output_type": "stream",
          "text": [
            "0 1\n",
            "1 1\n",
            "2 2\n",
            "3 6\n",
            "4 24\n",
            "5 120\n",
            "6 720\n",
            "7 5040\n",
            "8 40320\n",
            "9 362880\n"
          ],
          "name": "stdout"
        }
      ]
    },
    {
      "cell_type": "markdown",
      "metadata": {
        "id": "1cpsZ3d6x2AD",
        "colab_type": "text"
      },
      "source": [
        "Question 4\n",
        "Write a script that prints the multiples of 7 between 0 and 100. Print one multiple per line and avoid printing any numbers that aren't multiples of 7. Remember that 0 is also a multiple of 7.\n"
      ]
    },
    {
      "cell_type": "code",
      "metadata": {
        "id": "soKVGRQRx3sW",
        "colab_type": "code",
        "colab": {
          "base_uri": "https://localhost:8080/",
          "height": 277
        },
        "outputId": "fc3222a1-82d7-482d-b0d3-a4cfcfdc4e6c"
      },
      "source": [
        "count = 0\n",
        "value = 1\n",
        "while (value < 98):\n",
        "  value = count * 7\n",
        "  print(value)\n",
        "  count += 1"
      ],
      "execution_count": null,
      "outputs": [
        {
          "output_type": "stream",
          "text": [
            "0\n",
            "7\n",
            "14\n",
            "21\n",
            "28\n",
            "35\n",
            "42\n",
            "49\n",
            "56\n",
            "63\n",
            "70\n",
            "77\n",
            "84\n",
            "91\n",
            "98\n"
          ],
          "name": "stdout"
        }
      ]
    },
    {
      "cell_type": "markdown",
      "metadata": {
        "id": "PEsYTCPCzc3W",
        "colab_type": "text"
      },
      "source": [
        "# Recursion \n",
        "(repeated application of the same procedure to a smaller problem)\n",
        "A way of doing a repetitive task by having a function call itself\n",
        "\n"
      ]
    },
    {
      "cell_type": "code",
      "metadata": {
        "id": "pOxeL7Mczd6C",
        "colab_type": "code",
        "colab": {
          "base_uri": "https://localhost:8080/",
          "height": 208
        },
        "outputId": "6e220636-1962-4847-bd57-a17478b66a85"
      },
      "source": [
        "def factorial(n):\n",
        "#function to use recursion to do a factorial problem\n",
        "  print(\"Factorial function called with n value \" +str(n))\n",
        "  if n < 2: #base case\n",
        "    print(\"returning 1\")\n",
        "    return 1\n",
        "  result = n * factorial(n-1) #Recursion happens\n",
        "  print(\"Returning \" +str(result) + \" for factorial of \" + str(n))\n",
        "  return result\n",
        "\n",
        "factorial(5)"
      ],
      "execution_count": null,
      "outputs": [
        {
          "output_type": "stream",
          "text": [
            "Factorial function called with n value 5\n",
            "Factorial function called with n value 4\n",
            "Factorial function called with n value 3\n",
            "Factorial function called with n value 2\n",
            "Factorial function called with n value 1\n",
            "returning 1\n",
            "Returning 2 for factorial of 2\n",
            "Returning 6 for factorial of 3\n",
            "Returning 24 for factorial of 4\n",
            "Returning 120 for factorial of 5\n"
          ],
          "name": "stdout"
        },
        {
          "output_type": "execute_result",
          "data": {
            "text/plain": [
              "120"
            ]
          },
          "metadata": {
            "tags": []
          },
          "execution_count": 12
        }
      ]
    }
  ]
}